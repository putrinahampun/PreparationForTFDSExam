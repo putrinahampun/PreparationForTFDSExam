{
  "nbformat": 4,
  "nbformat_minor": 0,
  "metadata": {
    "colab": {
      "provenance": [],
      "authorship_tag": "ABX9TyMx70/bhRclxI0rKXmgdyj3",
      "include_colab_link": true
    },
    "kernelspec": {
      "name": "python3",
      "display_name": "Python 3"
    },
    "language_info": {
      "name": "python"
    }
  },
  "cells": [
    {
      "cell_type": "markdown",
      "metadata": {
        "id": "view-in-github",
        "colab_type": "text"
      },
      "source": [
        "<a href=\"https://colab.research.google.com/github/putrinahampun/PreparationForTFDSExam/blob/main/ExerciseDicoding/SubmissionA/ProblemA5.ipynb\" target=\"_parent\"><img src=\"https://colab.research.google.com/assets/colab-badge.svg\" alt=\"Open In Colab\"/></a>"
      ]
    },
    {
      "cell_type": "code",
      "execution_count": 7,
      "metadata": {
        "colab": {
          "base_uri": "https://localhost:8080/"
        },
        "id": "H-eYCKGkNSow",
        "outputId": "9cf96a59-80b0-4e3d-cb5f-dd4b351888fe"
      },
      "outputs": [
        {
          "output_type": "stream",
          "name": "stdout",
          "text": [
            "Epoch 1/10\n",
            "93/93 [==============================] - 15s 50ms/step - loss: 0.0115 - mae: 0.1070\n",
            "Epoch 2/10\n",
            "93/93 [==============================] - 5s 48ms/step - loss: 0.0064 - mae: 0.0797\n",
            "Epoch 3/10\n",
            "93/93 [==============================] - 6s 61ms/step - loss: 0.0049 - mae: 0.0695\n",
            "Epoch 4/10\n",
            "93/93 [==============================] - 5s 49ms/step - loss: 0.0042 - mae: 0.0644\n",
            "Epoch 5/10\n",
            "93/93 [==============================] - 5s 50ms/step - loss: 0.0037 - mae: 0.0607\n",
            "Epoch 6/10\n",
            "93/93 [==============================] - 5s 56ms/step - loss: 0.0034 - mae: 0.0583\n",
            "Epoch 7/10\n",
            "93/93 [==============================] - 6s 60ms/step - loss: 0.0032 - mae: 0.0564\n",
            "Epoch 8/10\n",
            "93/93 [==============================] - 5s 49ms/step - loss: 0.0030 - mae: 0.0550\n",
            "Epoch 9/10\n",
            "93/93 [==============================] - 6s 58ms/step - loss: 0.0029 - mae: 0.0538\n",
            "Epoch 10/10\n",
            "93/93 [==============================] - 5s 48ms/step - loss: 0.0028 - mae: 0.0530\n"
          ]
        }
      ],
      "source": [
        "# =======================================================================================\n",
        "# PROBLEM A5\n",
        "#\n",
        "# Build and train a neural network model using the Sunspots.csv dataset.\n",
        "# Use MAE as the metrics of your neural network model.\n",
        "# We provided code for normalizing the data. Please do not change the code.\n",
        "# Do not use lambda layers in your model.\n",
        "#\n",
        "# The dataset used in this problem is downloaded from kaggle.com/robervalt/sunspots\n",
        "#\n",
        "# Desired MAE < 0.15 on the normalized dataset.\n",
        "# ========================================================================================\n",
        "\n",
        "import csv\n",
        "import tensorflow as tf\n",
        "import numpy as np\n",
        "import urllib\n",
        "\n",
        "# DO NOT CHANGE THIS CODE\n",
        "def windowed_dataset(series, window_size, batch_size, shuffle_buffer):\n",
        "    series = tf.expand_dims(series, axis=-1)\n",
        "    ds = tf.data.Dataset.from_tensor_slices(series)\n",
        "    ds = ds.window(window_size + 1, shift=1, drop_remainder=True)\n",
        "    ds = ds.flat_map(lambda w: w.batch(window_size + 1))\n",
        "    ds = ds.shuffle(shuffle_buffer)\n",
        "    ds = ds.map(lambda w: (w[:-1], w[1:]))\n",
        "    return ds.batch(batch_size).prefetch(1)\n",
        "\n",
        "\n",
        "def solution_A5():\n",
        "    data_url = 'https://github.com/dicodingacademy/assets/raw/main/Simulation/machine_learning/sunspots.csv'\n",
        "    urllib.request.urlretrieve(data_url, 'sunspots.csv')\n",
        "\n",
        "    time_step = []\n",
        "    sunspots = []\n",
        "\n",
        "    with open('sunspots.csv') as csvfile:\n",
        "        reader = csv.reader(csvfile, delimiter=',')\n",
        "        next(reader)\n",
        "        for row in reader:\n",
        "            sunspots.append(float(row[2]))  # Column index 2 contains sunspot data\n",
        "            time_step.append(int(row[0]))  # Column index 0 contains time step\n",
        "\n",
        "    series = np.array(sunspots)  # Convert sunspots to numpy array\n",
        "\n",
        "    # Normalization Function. DO NOT CHANGE THIS CODE\n",
        "    min_val = np.min(series)\n",
        "    max_val = np.max(series)\n",
        "    series = (series - min_val) / (max_val - min_val)\n",
        "    time = np.array(time_step)\n",
        "\n",
        "    # DO NOT CHANGE THIS CODE\n",
        "    split_time = 3000\n",
        "\n",
        "    time_train = time[:split_time]\n",
        "    x_train = series[:split_time]\n",
        "    time_valid = time[split_time:]\n",
        "    x_valid = series[split_time:]\n",
        "\n",
        "    # DO NOT CHANGE THIS CODE\n",
        "    window_size = 30\n",
        "    batch_size = 32\n",
        "    shuffle_buffer_size = 1000\n",
        "\n",
        "    train_set = windowed_dataset(x_train, window_size=window_size,\n",
        "                                 batch_size=batch_size, shuffle_buffer=shuffle_buffer_size)\n",
        "\n",
        "    model = tf.keras.models.Sequential([\n",
        "        tf.keras.layers.Conv1D(filters=32, kernel_size=5, strides=1, padding=\"causal\", activation=\"relu\",\n",
        "                               input_shape=[None, 1]),\n",
        "        tf.keras.layers.LSTM(64, return_sequences=True),\n",
        "        tf.keras.layers.LSTM(64, return_sequences=True),\n",
        "        tf.keras.layers.Dense(30, activation=\"relu\"),\n",
        "        tf.keras.layers.Dense(10, activation=\"relu\"),\n",
        "        tf.keras.layers.Dense(1)\n",
        "    ])\n",
        "\n",
        "    # Compile the model\n",
        "    model.compile(loss=tf.keras.losses.Huber(),\n",
        "                  optimizer=tf.keras.optimizers.Adam(learning_rate=1e-4),\n",
        "                  metrics=[\"mae\"])\n",
        "\n",
        "    # Train the model\n",
        "    model.fit(train_set, epochs=10)\n",
        "\n",
        "    return model\n",
        "\n",
        "# The code below is to save your model as a .h5 file.\n",
        "# It will be saved automatically in your Submission folder.\n",
        "if __name__ == '__main__':\n",
        "    # DO NOT CHANGE THIS CODE\n",
        "    model = solution_A5()\n",
        "    model.save(\"model_A5.h5\")\n"
      ]
    },
    {
      "cell_type": "code",
      "source": [],
      "metadata": {
        "id": "q3XPq57iUGd1"
      },
      "execution_count": null,
      "outputs": []
    }
  ]
}