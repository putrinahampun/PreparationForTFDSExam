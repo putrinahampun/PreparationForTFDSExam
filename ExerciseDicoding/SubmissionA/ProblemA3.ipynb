{
  "nbformat": 4,
  "nbformat_minor": 0,
  "metadata": {
    "colab": {
      "provenance": [],
      "authorship_tag": "ABX9TyP9UenqbKKGGoXPpAzZuClh",
      "include_colab_link": true
    },
    "kernelspec": {
      "name": "python3",
      "display_name": "Python 3"
    },
    "language_info": {
      "name": "python"
    }
  },
  "cells": [
    {
      "cell_type": "markdown",
      "metadata": {
        "id": "view-in-github",
        "colab_type": "text"
      },
      "source": [
        "<a href=\"https://colab.research.google.com/github/putrinahampun/PreparationForTFDSExam/blob/main/ExerciseDicoding/SubmissionA/ProblemA3.ipynb\" target=\"_parent\"><img src=\"https://colab.research.google.com/assets/colab-badge.svg\" alt=\"Open In Colab\"/></a>"
      ]
    },
    {
      "cell_type": "code",
      "execution_count": 5,
      "metadata": {
        "colab": {
          "base_uri": "https://localhost:8080/"
        },
        "id": "H-eYCKGkNSow",
        "outputId": "5908d187-346d-4eec-f632-2aa0d2a4c0a7"
      },
      "outputs": [
        {
          "output_type": "stream",
          "name": "stdout",
          "text": [
            "Found 1027 images belonging to 2 classes.\n",
            "Found 256 images belonging to 2 classes.\n"
          ]
        },
        {
          "output_type": "stream",
          "name": "stderr",
          "text": [
            "WARNING:absl:`lr` is deprecated in Keras optimizer, please use `learning_rate` or use the legacy optimizer, e.g.,tf.keras.optimizers.legacy.RMSprop.\n",
            "<ipython-input-5-6bb7f947fc8d>:92: UserWarning: `Model.fit_generator` is deprecated and will be removed in a future version. Please use `Model.fit`, which supports generators.\n",
            "  history = model.fit_generator(train_generator,\n"
          ]
        },
        {
          "output_type": "stream",
          "name": "stdout",
          "text": [
            "Epoch 1/10\n",
            "51/51 - 100s - loss: 1.2475 - acc: 0.9136 - val_loss: 0.0506 - val_acc: 0.9833 - 100s/epoch - 2s/step\n",
            "Epoch 2/10\n",
            "51/51 - 93s - loss: 0.1320 - acc: 0.9702 - val_loss: 0.2118 - val_acc: 0.9667 - 93s/epoch - 2s/step\n",
            "Epoch 3/10\n",
            "51/51 - 84s - loss: 0.0786 - acc: 0.9831 - val_loss: 0.0614 - val_acc: 0.9833 - 84s/epoch - 2s/step\n",
            "Epoch 4/10\n",
            "51/51 - 94s - loss: 0.0380 - acc: 0.9891 - val_loss: 0.0527 - val_acc: 0.9875 - 94s/epoch - 2s/step\n",
            "Epoch 5/10\n",
            "51/51 - 84s - loss: 0.0576 - acc: 0.9811 - val_loss: 0.0029 - val_acc: 1.0000 - 84s/epoch - 2s/step\n",
            "Epoch 6/10\n",
            "51/51 - 87s - loss: 0.0413 - acc: 0.9911 - val_loss: 0.0975 - val_acc: 0.9833 - 87s/epoch - 2s/step\n",
            "Epoch 7/10\n",
            "51/51 - 95s - loss: 0.0595 - acc: 0.9871 - val_loss: 0.2551 - val_acc: 0.9625 - 95s/epoch - 2s/step\n",
            "Epoch 8/10\n",
            "51/51 - 85s - loss: 0.0252 - acc: 0.9930 - val_loss: 0.2475 - val_acc: 0.9708 - 85s/epoch - 2s/step\n",
            "Epoch 9/10\n",
            "51/51 - 85s - loss: 0.0214 - acc: 0.9970 - val_loss: 0.0547 - val_acc: 0.9917 - 85s/epoch - 2s/step\n",
            "Epoch 10/10\n",
            "51/51 - 94s - loss: 0.0160 - acc: 0.9950 - val_loss: 0.0768 - val_acc: 0.9875 - 94s/epoch - 2s/step\n"
          ]
        }
      ],
      "source": [
        "# ======================================================================================================\n",
        "# PROBLEM A3\n",
        "#\n",
        "# Build a classifier for the Human or Horse Dataset with Transfer Learning.\n",
        "# The test will expect it to classify binary classes.\n",
        "# Note that all the layers in the pre-trained model are non-trainable.\n",
        "# Do not use lambda layers in your model.\n",
        "#\n",
        "# The horse-or-human dataset used in this problem is created by Laurence Moroney (laurencemoroney.com).\n",
        "# Inception_v3, pre-trained model used in this problem is developed by Google.\n",
        "#\n",
        "# Desired accuracy and validation_accuracy > 97%.\n",
        "# =======================================================================================================\n",
        "\n",
        "import urllib.request\n",
        "import zipfile\n",
        "import tensorflow as tf\n",
        "from keras.preprocessing.image import ImageDataGenerator\n",
        "from tensorflow.keras.optimizers import RMSprop\n",
        "from tensorflow.keras import layers\n",
        "from tensorflow.keras import Model\n",
        "from tensorflow.keras.applications.inception_v3 import InceptionV3\n",
        "\n",
        "\n",
        "def solution_A3():\n",
        "    inceptionv3 = 'https://storage.googleapis.com/mledu-datasets/inception_v3_weights_tf_dim_ordering_tf_kernels_notop.h5'\n",
        "    urllib.request.urlretrieve(\n",
        "        inceptionv3, 'inception_v3_weights_tf_dim_ordering_tf_kernels_notop.h5')\n",
        "    local_weights_file = 'inception_v3_weights_tf_dim_ordering_tf_kernels_notop.h5'\n",
        "\n",
        "    pre_trained_model = InceptionV3(input_shape = (150, 150, 3),\n",
        "                                  include_top = False,\n",
        "                                  weights = None)\n",
        "\n",
        "    pre_trained_model.load_weights(local_weights_file)\n",
        "\n",
        "    for layer in pre_trained_model.layers:\n",
        "        layer.trainable = False\n",
        "\n",
        "    last_layer =  pre_trained_model.get_layer('mixed7')\n",
        "    last_output = last_layer.output\n",
        "\n",
        "    data_url_1 = 'https://github.com/dicodingacademy/assets/releases/download/release-horse-or-human/horse-or-human.zip'\n",
        "    urllib.request.urlretrieve(data_url_1, 'horse-or-human.zip')\n",
        "    local_file = 'horse-or-human.zip'\n",
        "    zip_ref = zipfile.ZipFile(local_file, 'r')\n",
        "    zip_ref.extractall('data/horse-or-human')\n",
        "    zip_ref.close()\n",
        "\n",
        "    data_url_2 = 'https://github.com/dicodingacademy/assets/raw/main/Simulation/machine_learning/validation-horse-or-human.zip'\n",
        "    urllib.request.urlretrieve(data_url_2, 'validation-horse-or-human.zip')\n",
        "    local_file = 'validation-horse-or-human.zip'\n",
        "    zip_ref = zipfile.ZipFile(local_file, 'r')\n",
        "    zip_ref.extractall('data/validation-horse-or-human')\n",
        "    zip_ref.close()\n",
        "\n",
        "    train_dir = 'data/horse-or-human'\n",
        "    validation_dir = 'data/validation-horse-or-human'\n",
        "\n",
        "    train_datagen = ImageDataGenerator(rescale = 1./255.,\n",
        "                                   rotation_range = 40,\n",
        "                                   width_shift_range = 0.2,\n",
        "                                   height_shift_range = 0.2,\n",
        "                                   shear_range = 0.2,\n",
        "                                   zoom_range = 0.2,\n",
        "                                   horizontal_flip = True)\n",
        "\n",
        "    validation_datagen = ImageDataGenerator(rescale = 1./255)\n",
        "\n",
        "    # YOUR IMAGE SIZE SHOULD BE 150x150\n",
        "    train_generator = train_datagen.flow_from_directory(train_dir,\n",
        "                                                        batch_size = 20,\n",
        "                                                        class_mode = 'binary',\n",
        "                                                        target_size = (150, 150))\n",
        "\n",
        "    validation_generator = validation_datagen.flow_from_directory(validation_dir,\n",
        "                                                                  batch_size = 20,\n",
        "                                                                  class_mode = 'binary',\n",
        "                                                                  target_size = (150,150))\n",
        "\n",
        "    x = layers.Flatten()(last_output)\n",
        "    x = layers.Dense(1024, activation='relu')(x)\n",
        "    x = layers.Dropout(0.2)(x)\n",
        "    x = layers.Dense(1, activation='sigmoid')(x)\n",
        "\n",
        "    model = Model(pre_trained_model.input, x)\n",
        "\n",
        "    model.compile(optimizer=RMSprop(lr=0.0001),\n",
        "                  loss='binary_crossentropy',\n",
        "                  metrics=['acc'])\n",
        "\n",
        "    history = model.fit_generator(train_generator,\n",
        "                                  validation_data = validation_generator,\n",
        "                                  steps_per_epoch = 1027 // 20,\n",
        "                                  epochs = 10,\n",
        "                                  validation_steps = 256 // 20,\n",
        "                                  verbose = 2)\n",
        "    return model\n",
        "\n",
        "# solution_A3()\n",
        "# # The code below is to save your model as a .h5 file.\n",
        "# # It will be saved automatically in your Submission folder.\n",
        "if __name__ == '__main__':\n",
        "    # DO NOT CHANGE THIS CODE\n",
        "    model=solution_A3()\n",
        "    model.save(\"model_A3.h5\")"
      ]
    },
    {
      "cell_type": "code",
      "source": [],
      "metadata": {
        "id": "q3XPq57iUGd1"
      },
      "execution_count": null,
      "outputs": []
    }
  ]
}