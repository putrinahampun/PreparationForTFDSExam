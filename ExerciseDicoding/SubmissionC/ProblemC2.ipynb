{
  "nbformat": 4,
  "nbformat_minor": 0,
  "metadata": {
    "colab": {
      "provenance": [],
      "authorship_tag": "ABX9TyPiX4Nq7MshhcNgQFJ74GJg",
      "include_colab_link": true
    },
    "kernelspec": {
      "name": "python3",
      "display_name": "Python 3"
    },
    "language_info": {
      "name": "python"
    }
  },
  "cells": [
    {
      "cell_type": "markdown",
      "metadata": {
        "id": "view-in-github",
        "colab_type": "text"
      },
      "source": [
        "<a href=\"https://colab.research.google.com/github/putrinahampun/PreparationForTFDSExam/blob/main/ExerciseDicoding/SubmissionC/ProblemC2.ipynb\" target=\"_parent\"><img src=\"https://colab.research.google.com/assets/colab-badge.svg\" alt=\"Open In Colab\"/></a>"
      ]
    },
    {
      "cell_type": "code",
      "execution_count": null,
      "metadata": {
        "id": "d4ICIYFHo7LP"
      },
      "outputs": [],
      "source": [
        "# =============================================================================\n",
        "# PROBLEM C2\n",
        "#\n",
        "# Create a classifier for the MNIST Handwritten digit dataset.\n",
        "# The test will expect it to classify 10 classes.\n",
        "#\n",
        "# Don't use lambda layers in your model.\n",
        "#\n",
        "# Desired accuracy AND validation_accuracy > 91%\n",
        "# =============================================================================\n",
        "\n",
        "import tensorflow as tf\n",
        "\n",
        "\n",
        "def solution_C2():\n",
        "\n",
        "    tf.random.set_seed(42)\n",
        "\n",
        "    mnist = tf.keras.datasets.mnist\n",
        "    (train_images, train_labels), (test_images, test_labels) = mnist.load_data()\n",
        "\n",
        "    # NORMALIZE YOUR IMAGE HERE\n",
        "    train_images = train_images / 255.0\n",
        "    test_images = test_images / 255.0\n",
        "\n",
        "    # DEFINE YOUR MODEL HERE\n",
        "    model = tf.keras.Sequential([\n",
        "        tf.keras.layers.Flatten(input_shape=(28, 28,1)),\n",
        "        tf.keras.layers.Dense(128, activation='relu'),\n",
        "        tf.keras.layers.Dense(10, activation='softmax')\n",
        "    ])\n",
        "\n",
        "    # COMPILE MODEL HERE\n",
        "    model.compile(optimizer='adam',\n",
        "                  loss=tf.keras.losses.SparseCategoricalCrossentropy(from_logits=False),\n",
        "                  metrics=['accuracy'])\n",
        "\n",
        "    # TRAIN YOUR MODEL HERE\n",
        "    model.fit(train_images, train_labels, epochs=10, validation_data=(test_images, test_labels))\n",
        "\n",
        "    return model\n",
        "\n",
        "# The code below is to save your model as a .h5 file.\n",
        "# It will be saved automatically in your Submission folder.\n",
        "if __name__ == '__main__':\n",
        "    # DO NOT CHANGE THIS CODE\n",
        "    model = solution_C2()\n",
        "    model.save(\"model_C2.h5\")"
      ]
    }
  ]
}